{
 "cells": [
  {
   "cell_type": "code",
   "execution_count": 1,
   "id": "6d636dc1",
   "metadata": {},
   "outputs": [
    {
     "name": "stderr",
     "output_type": "stream",
     "text": [
      "/tmp/ipykernel_4988/1079294386.py:4: DtypeWarning: Columns (6) have mixed types. Specify dtype option on import or set low_memory=False.\n",
      "  df = pd.read_csv('/home/eva/results/trueranks/ranks_00000.csv', names = ['rk','cond', 'a1','a2','a3','a4','a6','sgn'])\n"
     ]
    }
   ],
   "source": [
    "import pandas as pd\n",
    "import numpy as np\n",
    "\n",
    "df = pd.read_csv('/home/eva/results/trueranks/ranks_00000.csv', names = ['rk','cond', 'a1','a2','a3','a4','a6','sgn'])\n"
   ]
  },
  {
   "cell_type": "code",
   "execution_count": 2,
   "id": "ab425653",
   "metadata": {},
   "outputs": [
    {
     "name": "stderr",
     "output_type": "stream",
     "text": [
      "/tmp/ipykernel_4988/2863786000.py:1: DtypeWarning: Columns (6) have mixed types. Specify dtype option on import or set low_memory=False.\n",
      "  df = pd.read_csv('/home/eva/results/datasets/ml/ELDAR3.csv')\n"
     ]
    }
   ],
   "source": [
    "\n"
   ]
  },
  {
   "cell_type": "code",
   "execution_count": 9,
   "id": "525bc09b",
   "metadata": {},
   "outputs": [],
   "source": [
    "ai = [\n",
    "    f\"a_{i}\" for i in range(1, 61)\n",
    "]\n",
    "name = ['rk', 'cond', 'a1', 'a2', 'a3', 'a4', 'a6', 'sign'] + ai"
   ]
  },
  {
   "cell_type": "code",
   "execution_count": 10,
   "id": "68180309",
   "metadata": {},
   "outputs": [
    {
     "name": "stderr",
     "output_type": "stream",
     "text": [
      "/tmp/ipykernel_4988/2704207921.py:1: DtypeWarning: Columns (6) have mixed types. Specify dtype option on import or set low_memory=False.\n",
      "  df = pd.read_csv('/home/eva/results/datasets/ml/ELDAR3.csv', names = name)\n"
     ]
    }
   ],
   "source": [
    "\n",
    "df = pd.read_csv('/home/eva/results/datasets/ml/ELDAR3.csv', names = name)\n"
   ]
  },
  {
   "cell_type": "code",
   "execution_count": 15,
   "id": "91fcc6c9",
   "metadata": {},
   "outputs": [],
   "source": [
    "columns_to_drop = ['sign']\n",
    "df = df.drop(columns_to_drop, axis=1)"
   ]
  },
  {
   "cell_type": "code",
   "execution_count": 20,
   "id": "4f7095ba",
   "metadata": {},
   "outputs": [],
   "source": [
    "df.to_csv('/home/eva/results/datasets/ml/ELDAR_morecurves.csv', index=False)"
   ]
  },
  {
   "cell_type": "code",
   "execution_count": 16,
   "id": "58097878",
   "metadata": {},
   "outputs": [
    {
     "name": "stderr",
     "output_type": "stream",
     "text": [
      "/tmp/ipykernel_2157/2348038388.py:5: DtypeWarning: Columns (6) have mixed types. Specify dtype option on import or set low_memory=False.\n",
      "  df = pd.read_csv('/home/eva/results/trueranks/ranks_'+str(i).zfill(5)+'.csv', names = ['rk','cond', 'a1','a2','a3','a4','a6','sgn'])\n",
      "/tmp/ipykernel_2157/2348038388.py:5: DtypeWarning: Columns (6) have mixed types. Specify dtype option on import or set low_memory=False.\n",
      "  df = pd.read_csv('/home/eva/results/trueranks/ranks_'+str(i).zfill(5)+'.csv', names = ['rk','cond', 'a1','a2','a3','a4','a6','sgn'])\n",
      "/tmp/ipykernel_2157/2348038388.py:5: DtypeWarning: Columns (6) have mixed types. Specify dtype option on import or set low_memory=False.\n",
      "  df = pd.read_csv('/home/eva/results/trueranks/ranks_'+str(i).zfill(5)+'.csv', names = ['rk','cond', 'a1','a2','a3','a4','a6','sgn'])\n",
      "/tmp/ipykernel_2157/2348038388.py:5: DtypeWarning: Columns (6) have mixed types. Specify dtype option on import or set low_memory=False.\n",
      "  df = pd.read_csv('/home/eva/results/trueranks/ranks_'+str(i).zfill(5)+'.csv', names = ['rk','cond', 'a1','a2','a3','a4','a6','sgn'])\n",
      "/tmp/ipykernel_2157/2348038388.py:5: DtypeWarning: Columns (6) have mixed types. Specify dtype option on import or set low_memory=False.\n",
      "  df = pd.read_csv('/home/eva/results/trueranks/ranks_'+str(i).zfill(5)+'.csv', names = ['rk','cond', 'a1','a2','a3','a4','a6','sgn'])\n",
      "/tmp/ipykernel_2157/2348038388.py:5: DtypeWarning: Columns (6) have mixed types. Specify dtype option on import or set low_memory=False.\n",
      "  df = pd.read_csv('/home/eva/results/trueranks/ranks_'+str(i).zfill(5)+'.csv', names = ['rk','cond', 'a1','a2','a3','a4','a6','sgn'])\n",
      "/tmp/ipykernel_2157/2348038388.py:5: DtypeWarning: Columns (6) have mixed types. Specify dtype option on import or set low_memory=False.\n",
      "  df = pd.read_csv('/home/eva/results/trueranks/ranks_'+str(i).zfill(5)+'.csv', names = ['rk','cond', 'a1','a2','a3','a4','a6','sgn'])\n",
      "/tmp/ipykernel_2157/2348038388.py:5: DtypeWarning: Columns (6) have mixed types. Specify dtype option on import or set low_memory=False.\n",
      "  df = pd.read_csv('/home/eva/results/trueranks/ranks_'+str(i).zfill(5)+'.csv', names = ['rk','cond', 'a1','a2','a3','a4','a6','sgn'])\n",
      "/tmp/ipykernel_2157/2348038388.py:5: DtypeWarning: Columns (6) have mixed types. Specify dtype option on import or set low_memory=False.\n",
      "  df = pd.read_csv('/home/eva/results/trueranks/ranks_'+str(i).zfill(5)+'.csv', names = ['rk','cond', 'a1','a2','a3','a4','a6','sgn'])\n",
      "/tmp/ipykernel_2157/2348038388.py:5: DtypeWarning: Columns (6) have mixed types. Specify dtype option on import or set low_memory=False.\n",
      "  df = pd.read_csv('/home/eva/results/trueranks/ranks_'+str(i).zfill(5)+'.csv', names = ['rk','cond', 'a1','a2','a3','a4','a6','sgn'])\n",
      "/tmp/ipykernel_2157/2348038388.py:5: DtypeWarning: Columns (6) have mixed types. Specify dtype option on import or set low_memory=False.\n",
      "  df = pd.read_csv('/home/eva/results/trueranks/ranks_'+str(i).zfill(5)+'.csv', names = ['rk','cond', 'a1','a2','a3','a4','a6','sgn'])\n",
      "/tmp/ipykernel_2157/2348038388.py:5: DtypeWarning: Columns (6) have mixed types. Specify dtype option on import or set low_memory=False.\n",
      "  df = pd.read_csv('/home/eva/results/trueranks/ranks_'+str(i).zfill(5)+'.csv', names = ['rk','cond', 'a1','a2','a3','a4','a6','sgn'])\n",
      "/tmp/ipykernel_2157/2348038388.py:5: DtypeWarning: Columns (6) have mixed types. Specify dtype option on import or set low_memory=False.\n",
      "  df = pd.read_csv('/home/eva/results/trueranks/ranks_'+str(i).zfill(5)+'.csv', names = ['rk','cond', 'a1','a2','a3','a4','a6','sgn'])\n",
      "/tmp/ipykernel_2157/2348038388.py:5: DtypeWarning: Columns (6) have mixed types. Specify dtype option on import or set low_memory=False.\n",
      "  df = pd.read_csv('/home/eva/results/trueranks/ranks_'+str(i).zfill(5)+'.csv', names = ['rk','cond', 'a1','a2','a3','a4','a6','sgn'])\n",
      "/tmp/ipykernel_2157/2348038388.py:5: DtypeWarning: Columns (6) have mixed types. Specify dtype option on import or set low_memory=False.\n",
      "  df = pd.read_csv('/home/eva/results/trueranks/ranks_'+str(i).zfill(5)+'.csv', names = ['rk','cond', 'a1','a2','a3','a4','a6','sgn'])\n",
      "/tmp/ipykernel_2157/2348038388.py:5: DtypeWarning: Columns (6) have mixed types. Specify dtype option on import or set low_memory=False.\n",
      "  df = pd.read_csv('/home/eva/results/trueranks/ranks_'+str(i).zfill(5)+'.csv', names = ['rk','cond', 'a1','a2','a3','a4','a6','sgn'])\n",
      "/tmp/ipykernel_2157/2348038388.py:5: DtypeWarning: Columns (6) have mixed types. Specify dtype option on import or set low_memory=False.\n",
      "  df = pd.read_csv('/home/eva/results/trueranks/ranks_'+str(i).zfill(5)+'.csv', names = ['rk','cond', 'a1','a2','a3','a4','a6','sgn'])\n",
      "/tmp/ipykernel_2157/2348038388.py:5: DtypeWarning: Columns (6) have mixed types. Specify dtype option on import or set low_memory=False.\n",
      "  df = pd.read_csv('/home/eva/results/trueranks/ranks_'+str(i).zfill(5)+'.csv', names = ['rk','cond', 'a1','a2','a3','a4','a6','sgn'])\n",
      "/tmp/ipykernel_2157/2348038388.py:5: DtypeWarning: Columns (6) have mixed types. Specify dtype option on import or set low_memory=False.\n",
      "  df = pd.read_csv('/home/eva/results/trueranks/ranks_'+str(i).zfill(5)+'.csv', names = ['rk','cond', 'a1','a2','a3','a4','a6','sgn'])\n",
      "/tmp/ipykernel_2157/2348038388.py:5: DtypeWarning: Columns (6) have mixed types. Specify dtype option on import or set low_memory=False.\n",
      "  df = pd.read_csv('/home/eva/results/trueranks/ranks_'+str(i).zfill(5)+'.csv', names = ['rk','cond', 'a1','a2','a3','a4','a6','sgn'])\n",
      "/tmp/ipykernel_2157/2348038388.py:5: DtypeWarning: Columns (6) have mixed types. Specify dtype option on import or set low_memory=False.\n",
      "  df = pd.read_csv('/home/eva/results/trueranks/ranks_'+str(i).zfill(5)+'.csv', names = ['rk','cond', 'a1','a2','a3','a4','a6','sgn'])\n",
      "/tmp/ipykernel_2157/2348038388.py:5: DtypeWarning: Columns (6) have mixed types. Specify dtype option on import or set low_memory=False.\n",
      "  df = pd.read_csv('/home/eva/results/trueranks/ranks_'+str(i).zfill(5)+'.csv', names = ['rk','cond', 'a1','a2','a3','a4','a6','sgn'])\n",
      "/tmp/ipykernel_2157/2348038388.py:5: DtypeWarning: Columns (6) have mixed types. Specify dtype option on import or set low_memory=False.\n",
      "  df = pd.read_csv('/home/eva/results/trueranks/ranks_'+str(i).zfill(5)+'.csv', names = ['rk','cond', 'a1','a2','a3','a4','a6','sgn'])\n",
      "/tmp/ipykernel_2157/2348038388.py:5: DtypeWarning: Columns (6) have mixed types. Specify dtype option on import or set low_memory=False.\n",
      "  df = pd.read_csv('/home/eva/results/trueranks/ranks_'+str(i).zfill(5)+'.csv', names = ['rk','cond', 'a1','a2','a3','a4','a6','sgn'])\n",
      "/tmp/ipykernel_2157/2348038388.py:5: DtypeWarning: Columns (6) have mixed types. Specify dtype option on import or set low_memory=False.\n",
      "  df = pd.read_csv('/home/eva/results/trueranks/ranks_'+str(i).zfill(5)+'.csv', names = ['rk','cond', 'a1','a2','a3','a4','a6','sgn'])\n",
      "/tmp/ipykernel_2157/2348038388.py:5: DtypeWarning: Columns (6) have mixed types. Specify dtype option on import or set low_memory=False.\n",
      "  df = pd.read_csv('/home/eva/results/trueranks/ranks_'+str(i).zfill(5)+'.csv', names = ['rk','cond', 'a1','a2','a3','a4','a6','sgn'])\n",
      "/tmp/ipykernel_2157/2348038388.py:5: DtypeWarning: Columns (6) have mixed types. Specify dtype option on import or set low_memory=False.\n",
      "  df = pd.read_csv('/home/eva/results/trueranks/ranks_'+str(i).zfill(5)+'.csv', names = ['rk','cond', 'a1','a2','a3','a4','a6','sgn'])\n",
      "/tmp/ipykernel_2157/2348038388.py:5: DtypeWarning: Columns (6) have mixed types. Specify dtype option on import or set low_memory=False.\n",
      "  df = pd.read_csv('/home/eva/results/trueranks/ranks_'+str(i).zfill(5)+'.csv', names = ['rk','cond', 'a1','a2','a3','a4','a6','sgn'])\n",
      "/tmp/ipykernel_2157/2348038388.py:5: DtypeWarning: Columns (6) have mixed types. Specify dtype option on import or set low_memory=False.\n",
      "  df = pd.read_csv('/home/eva/results/trueranks/ranks_'+str(i).zfill(5)+'.csv', names = ['rk','cond', 'a1','a2','a3','a4','a6','sgn'])\n",
      "/tmp/ipykernel_2157/2348038388.py:5: DtypeWarning: Columns (6) have mixed types. Specify dtype option on import or set low_memory=False.\n",
      "  df = pd.read_csv('/home/eva/results/trueranks/ranks_'+str(i).zfill(5)+'.csv', names = ['rk','cond', 'a1','a2','a3','a4','a6','sgn'])\n",
      "/tmp/ipykernel_2157/2348038388.py:5: DtypeWarning: Columns (6) have mixed types. Specify dtype option on import or set low_memory=False.\n",
      "  df = pd.read_csv('/home/eva/results/trueranks/ranks_'+str(i).zfill(5)+'.csv', names = ['rk','cond', 'a1','a2','a3','a4','a6','sgn'])\n"
     ]
    },
    {
     "name": "stderr",
     "output_type": "stream",
     "text": [
      "/tmp/ipykernel_2157/2348038388.py:5: DtypeWarning: Columns (6) have mixed types. Specify dtype option on import or set low_memory=False.\n",
      "  df = pd.read_csv('/home/eva/results/trueranks/ranks_'+str(i).zfill(5)+'.csv', names = ['rk','cond', 'a1','a2','a3','a4','a6','sgn'])\n",
      "/tmp/ipykernel_2157/2348038388.py:5: DtypeWarning: Columns (6) have mixed types. Specify dtype option on import or set low_memory=False.\n",
      "  df = pd.read_csv('/home/eva/results/trueranks/ranks_'+str(i).zfill(5)+'.csv', names = ['rk','cond', 'a1','a2','a3','a4','a6','sgn'])\n",
      "/tmp/ipykernel_2157/2348038388.py:5: DtypeWarning: Columns (6) have mixed types. Specify dtype option on import or set low_memory=False.\n",
      "  df = pd.read_csv('/home/eva/results/trueranks/ranks_'+str(i).zfill(5)+'.csv', names = ['rk','cond', 'a1','a2','a3','a4','a6','sgn'])\n",
      "/tmp/ipykernel_2157/2348038388.py:5: DtypeWarning: Columns (6) have mixed types. Specify dtype option on import or set low_memory=False.\n",
      "  df = pd.read_csv('/home/eva/results/trueranks/ranks_'+str(i).zfill(5)+'.csv', names = ['rk','cond', 'a1','a2','a3','a4','a6','sgn'])\n",
      "/tmp/ipykernel_2157/2348038388.py:5: DtypeWarning: Columns (6) have mixed types. Specify dtype option on import or set low_memory=False.\n",
      "  df = pd.read_csv('/home/eva/results/trueranks/ranks_'+str(i).zfill(5)+'.csv', names = ['rk','cond', 'a1','a2','a3','a4','a6','sgn'])\n",
      "/tmp/ipykernel_2157/2348038388.py:5: DtypeWarning: Columns (6) have mixed types. Specify dtype option on import or set low_memory=False.\n",
      "  df = pd.read_csv('/home/eva/results/trueranks/ranks_'+str(i).zfill(5)+'.csv', names = ['rk','cond', 'a1','a2','a3','a4','a6','sgn'])\n",
      "/tmp/ipykernel_2157/2348038388.py:5: DtypeWarning: Columns (6) have mixed types. Specify dtype option on import or set low_memory=False.\n",
      "  df = pd.read_csv('/home/eva/results/trueranks/ranks_'+str(i).zfill(5)+'.csv', names = ['rk','cond', 'a1','a2','a3','a4','a6','sgn'])\n",
      "/tmp/ipykernel_2157/2348038388.py:5: DtypeWarning: Columns (6) have mixed types. Specify dtype option on import or set low_memory=False.\n",
      "  df = pd.read_csv('/home/eva/results/trueranks/ranks_'+str(i).zfill(5)+'.csv', names = ['rk','cond', 'a1','a2','a3','a4','a6','sgn'])\n",
      "/tmp/ipykernel_2157/2348038388.py:5: DtypeWarning: Columns (6) have mixed types. Specify dtype option on import or set low_memory=False.\n",
      "  df = pd.read_csv('/home/eva/results/trueranks/ranks_'+str(i).zfill(5)+'.csv', names = ['rk','cond', 'a1','a2','a3','a4','a6','sgn'])\n"
     ]
    }
   ],
   "source": [
    "file_path = '/home/eva/results/datasets/ml/morecurves.csv'\n",
    "\n",
    "for i in range(0,40):\n",
    "    \n",
    "    df = pd.read_csv('/home/eva/results/trueranks/ranks_'+str(i).zfill(5)+'.csv', names = ['rk','cond', 'a1','a2','a3','a4','a6','sgn'])\n",
    "    df2 = df[df['rk'] == 3]\n",
    "    \n",
    "    df3 = df2.sample(n=5000, random_state=42)\n",
    "\n",
    "    df3.to_csv(file_path, index=False, mode='a', header=False)"
   ]
  },
  {
   "cell_type": "code",
   "execution_count": null,
   "id": "b6300f22",
   "metadata": {},
   "outputs": [],
   "source": []
  }
 ],
 "metadata": {
  "kernelspec": {
   "display_name": "Python 3 (ipykernel)",
   "language": "python",
   "name": "python3"
  },
  "language_info": {
   "codemirror_mode": {
    "name": "ipython",
    "version": 3
   },
   "file_extension": ".py",
   "mimetype": "text/x-python",
   "name": "python",
   "nbconvert_exporter": "python",
   "pygments_lexer": "ipython3",
   "version": "3.11.3"
  }
 },
 "nbformat": 4,
 "nbformat_minor": 5
}
